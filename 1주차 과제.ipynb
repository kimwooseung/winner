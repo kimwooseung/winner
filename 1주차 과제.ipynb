{
  "nbformat": 4,
  "nbformat_minor": 0,
  "metadata": {
    "colab": {
      "name": "Untitled0.ipynb",
      "provenance": [],
      "authorship_tag": "ABX9TyMAJRRH6YP2WTL+GfgRj9F9",
      "include_colab_link": true
    },
    "kernelspec": {
      "name": "python3",
      "display_name": "Python 3"
    }
  },
  "cells": [
    {
      "cell_type": "markdown",
      "metadata": {
        "id": "view-in-github",
        "colab_type": "text"
      },
      "source": [
        "<a href=\"https://colab.research.google.com/github/kimwooseung/winner/blob/master/1%EC%A3%BC%EC%B0%A8%20%EA%B3%BC%EC%A0%9C.ipynb\" target=\"_parent\"><img src=\"https://colab.research.google.com/assets/colab-badge.svg\" alt=\"Open In Colab\"/></a>"
      ]
    },
    {
      "cell_type": "code",
      "metadata": {
        "id": "CUqzeqJs_LU7",
        "colab_type": "code",
        "colab": {}
      },
      "source": [
        ""
      ],
      "execution_count": 0,
      "outputs": []
    },
    {
      "cell_type": "markdown",
      "metadata": {
        "id": "jxAuRkhxK_4A",
        "colab_type": "text"
      },
      "source": [
        "#1.언어\n",
        "**챗봇**\n",
        "\n",
        ">기존 기술에 대한 정보 수집\n",
        "서적 및 구글링을 통한 정보 정리\n",
        "프로그래밍을 통해 언어를 어떻게 인식하는 방법 연구 및 학습\n",
        "\n",
        "***\n",
        "#2.음성\n",
        "**삼성의 빅스비,애플의 시리, Tmap의 아리아**\n",
        "\n",
        ">기존 기술에 대한 정보 수집\n",
        "서적 및 구글링을 통한 정보 정리\n",
        "프로그래밍을 통해 언어를 어떻게 인식하는 방법 연구 및 학습\n",
        "***\n",
        "#3.이미지\n",
        "**구글의 텐서플로**\n",
        "\n",
        ">기존 기술에 대한 정보 수집\n",
        "서적 및 구글링을 통한 정보 정리\n",
        "프로그래밍을 통해 이미지를 어떻게 인식하는 방법 연구 및 학습\n",
        "\n",
        "***\n",
        "#4.자율주행 \n",
        "**현대/기아 등 전세계 자동차 회사**\n",
        "\n",
        ">기존 기술에 대한 정보 수집\n",
        "서적 및 구글링을 통한 정보 정리\n",
        "현재까지 나와 있는 반자율 주행 자동차에 대해 연구하고, 자율 주행 자동차를 구현할 것인지를 학습"
      ]
    }
  ]
}